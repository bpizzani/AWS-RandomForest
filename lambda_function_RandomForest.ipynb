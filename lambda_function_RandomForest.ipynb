import json
import boto3
import re
import pandas as pd
import os
import numpy as np
import io

column_labels= ['ResolutionY', 'Month', 'Daysleft', 'Score_Accertify_Index',
       'Email_Age_Score', 'Count_Times_Billing_CC_seen_~1',
       'Count_Times_Billing_Email_se~1', 'Listing_Number_Tickets_Purch~1',
       'Number_of_Orders_Purchased_1~1', 'Buyer_Join_to_Transaction_Pu~1',
       'Model_Probability', 'Distance_Buyer_IP_Zip_:_Buye~1', 'IP_seen',
       'Count_Events_per_Email', 'Count_Genres_per_Email',
       'Count_BIN_per_Email', 'Count_BIN_per_IP', 'Count_Users_per_IP',
       'Count_cctype_per_Email', 'Count_Events_per_IP',
       'Fulfillment_Method_BARCODE - PREDELIVERY (NON-STH)',
       'Fulfillment_Method_COURIER', 'Fulfillment_Method_DEUTSCHE POST',
       'Fulfillment_Method_EXTERNAL MOBILE TRANSFER',
       'Fulfillment_Method_LMS', 'Fulfillment_Method_LMS - PREDELIVERY',
       'Fulfillment_Method_LOCAL DELIVERY',
       'Fulfillment_Method_OTHER - PREDELIVERY', 'Fulfillment_Method_PDF',
       'Fulfillment_Method_PDF - PREDELIVERY',
       'Fulfillment_Method_ROYAL MAIL', 'Fulfillment_Method_UPS',
       'ThreatMetrix_Os_EMPTY', 'ThreatMetrix_Os_FEDORA',
       'ThreatMetrix_Os_IOS', 'ThreatMetrix_Os_LINUX',
       'ThreatMetrix_Os_SOLARIS', 'ThreatMetrix_Os_UBUNTU',
       'ThreatMetrix_Os_WINDOWS', 'Guest_Order_Indicator_TRUE',
       'Event_Genre_MLB', 'Event_Genre_MOTORSPORTS', 'Event_Genre_NBA',
       'Event_Genre_NFL', 'Event_Genre_OTHER/SPORT',
       'Buyer_Payment_AVS_Zip_Result_N', 'Buyer_Payment_AVS_Zip_Result_X',
       'Buyer_Payment_AVS_Zip_Result_Y',
       'Buyer_Payment_CC_Type_MASTERCARD', 'Buyer_Payment_CC_Type_VISA',
       'StubHubcom_Buyer_Profile_Sou~1_IOS',
       'StubHubcom_Buyer_Profile_Sou~1_SIEBEL TELESALES',
       'StubHubcom_Buyer_Profile_Sou~1_UNIFIED', 'shipEbill_True',
       'primaryEbill_True', 'BillcountryECC_True',
       'Buyer_IP_Continent_AFRICA', 'Buyer_IP_Continent_ASIA',
       'Buyer_IP_Continent_EUROPE', 'Buyer_IP_Continent_NORTH AMERICA',
       'Buyer_IP_Continent_OCEANIA', 'Buyer_IP_Continent_SOUTH AMERICA',
       'event_lang_True', 'ip_cc_True', 'ip_lang_True', 'ip_event_True',
       'cc_ip_True', 'cc_lang_True', 'cc_event_True',
       'BillcityEevent_True', 'BillStateEevent_True', 'IPcityEBill_True',
       'IPcityEevent_True', 'MusicGenre_ADULT STANDARDS',
       'MusicGenre_AFRO', 'MusicGenre_ALTERNATIVE', 'MusicGenre_ASIAN',
       'MusicGenre_BAROQUE ENSEMBLE', 'MusicGenre_BASS HOUSE',
       'MusicGenre_BEBOP', 'MusicGenre_BELGIAN DANCE',
       'MusicGenre_BELGIAN EDM', 'MusicGenre_BIG ROOM',
       'MusicGenre_BOSTON PUNK', 'MusicGenre_BOY BAND',
       'MusicGenre_BRITISH', 'MusicGenre_BRITISH INDUSTRIAL',
       'MusicGenre_BRITISH SINGER-SONGWRITER', 'MusicGenre_BRITISH SOUL',
       'MusicGenre_CALMING INSTRUMENTAL', 'MusicGenre_CANADIAN CELTIC',
       'MusicGenre_CANTAUTOR', 'MusicGenre_CANZONE DAUTORE',
       'MusicGenre_CANZONE NAPOLETANA', 'MusicGenre_CELTIC',
       'MusicGenre_CHANNEL ISLANDS INDIE', 'MusicGenre_CHANSON',
       'MusicGenre_CHORAL', 'MusicGenre_CHUTNEY', 'MusicGenre_CLASSICAL',
       'MusicGenre_CLASSICAL PERFORMANCE', 'MusicGenre_CLASSICAL PIANO',
       'MusicGenre_CLEAN COMEDY', 'MusicGenre_COMEDY',
       'MusicGenre_CORROSION', 'MusicGenre_COUNTRY',
       'MusicGenre_DARK DISCO', 'MusicGenre_DEEP DISCO HOUSE',
       'MusicGenre_DEEP EURO HOUSE', 'MusicGenre_DISCO',
       'MusicGenre_DOWNTEMPO', 'MusicGenre_ELECTRO',
       'MusicGenre_ELECTRONIC', 'MusicGenre_EPICORE',
       'MusicGenre_EXPERIMENTAL', 'MusicGenre_FESTIVAL',
       'MusicGenre_FILTER HOUSE', 'MusicGenre_FLAMENCO',
       'MusicGenre_FOLK', 'MusicGenre_FOOTBALL LEAGUE', 'MusicGenre_FUNK',
       'MusicGenre_GLOBAL', 'MusicGenre_GRIME', 'MusicGenre_HIP HOP',
       'MusicGenre_HOLLYWOOD', 'MusicGenre_INDIE SOUL',
       'MusicGenre_IRISH SINGER-SONGWRITER', 'MusicGenre_J-POP/ROCK',
       'MusicGenre_JAZZ', 'MusicGenre_JOVEM GUARDA', 'MusicGenre_K-INDIE',
       'MusicGenre_K-POP/ROCK', 'MusicGenre_LATIN', 'MusicGenre_LATINO',
       'MusicGenre_METAL', 'MusicGenre_NEO MELLOW', 'MusicGenre_NEO SOUL',
       'MusicGenre_NEO-SINGER-SONGWRITER', 'MusicGenre_NONE',
       'MusicGenre_ORCHESTRA', 'MusicGenre_OTher/Sports',
       'MusicGenre_POP', 'MusicGenre_POP/R&B', 'MusicGenre_RAP',
       'MusicGenre_REGGAE', 'MusicGenre_REGGAETON', 'MusicGenre_RNB',
       'MusicGenre_ROCK', 'MusicGenre_SASKATCHEWAN INDIE',
       'MusicGenre_SPANISH', 'MusicGenre_VIDEO GAME MUSIC',
       'IPcityEBill2_True', 'IPcityEevent2_True', 'billZipEIPZip_True',
       'Domain Category_NO_GENERIC', 'Domain_CC_True', 'Domain_lang_True',
       'Domain_event_True', 'Domain_ip_True', 'Ticket_Format_HARDTICKET',
       'Instant_Download_NO_INSTANT', 'UNIVERSITY_IP_UNIVERSITY',
       'Shared_Neg_IP_HOT_IP', 'ISP_Category_ITSP',
       'Shared_Neg_CC_HOT_CC', 'TrueIP_SourceIP_True',
       'Genre_seen_before_with_this_~1_0',
       'Genre_seen_before_with_this_~1_1', 'Host_Visit_True',
       'Visit_CC_True', 'Visit_IP_True', 'Visit_lang_True',
       'Host_CC_True', 'Host_IP_True', 'Host_lang_True',
       'Book_of_Business_3', 'Book_of_Business_6', 'Book_of_Business_7',
       'Book_of_Business_8', 'Prepaid_CC_PREPAID', 'primaryEbill2_True',
       'BIN_Country_AD', 'BIN_Country_AE', 'BIN_Country_AG',
       'BIN_Country_AL', 'BIN_Country_AM', 'BIN_Country_AO',
       'BIN_Country_AR', 'BIN_Country_AT', 'BIN_Country_AU',
       'BIN_Country_AW', 'BIN_Country_AZ', 'BIN_Country_BA',
       'BIN_Country_BB', 'BIN_Country_BD', 'BIN_Country_BE',
       'BIN_Country_BF', 'BIN_Country_BG', 'BIN_Country_BH',
       'BIN_Country_BJ', 'BIN_Country_BM', 'BIN_Country_BN',
       'BIN_Country_BO', 'BIN_Country_BR', 'BIN_Country_BS',
       'BIN_Country_BW', 'BIN_Country_BY', 'BIN_Country_CA',
       'BIN_Country_CD', 'BIN_Country_CG', 'BIN_Country_CH',
       'BIN_Country_CI', 'BIN_Country_CL', 'BIN_Country_CN',
       'BIN_Country_CO', 'BIN_Country_CR', 'BIN_Country_CW',
       'BIN_Country_CY', 'BIN_Country_CZ', 'BIN_Country_DE',
       'BIN_Country_DK', 'BIN_Country_DO', 'BIN_Country_DZ',
       'BIN_Country_EC', 'BIN_Country_EE', 'BIN_Country_EG',
       'BIN_Country_ES', 'BIN_Country_FI', 'BIN_Country_FR',
       'BIN_Country_GA', 'BIN_Country_GB', 'BIN_Country_GD',
       'BIN_Country_GE', 'BIN_Country_GH', 'BIN_Country_GI',
       'BIN_Country_GQ', 'BIN_Country_GR', 'BIN_Country_GT',
       'BIN_Country_HK', 'BIN_Country_HN', 'BIN_Country_HR',
       'BIN_Country_HT', 'BIN_Country_HU', 'BIN_Country_ID',
       'BIN_Country_IE', 'BIN_Country_IL', 'BIN_Country_IN',
       'BIN_Country_IQ', 'BIN_Country_IS', 'BIN_Country_IT',
       'BIN_Country_JE', 'BIN_Country_JM', 'BIN_Country_JO',
       'BIN_Country_JP', 'BIN_Country_KE', 'BIN_Country_KG',
       'BIN_Country_KH', 'BIN_Country_KN', 'BIN_Country_KOSOVO',
       'BIN_Country_KR', 'BIN_Country_KW', 'BIN_Country_KY',
       'BIN_Country_KZ', 'BIN_Country_LA', 'BIN_Country_LB',
       'BIN_Country_LK', 'BIN_Country_LT', 'BIN_Country_LU',
       'BIN_Country_LV', 'BIN_Country_LY', 'BIN_Country_MA',
       'BIN_Country_MD', 'BIN_Country_ME', 'BIN_Country_MK',
       'BIN_Country_MM', 'BIN_Country_MN', 'BIN_Country_MO',
       'BIN_Country_MT', 'BIN_Country_MU', 'BIN_Country_MV',
       'BIN_Country_MX', 'BIN_Country_MY', 'BIN_Country_MZ',
       'BIN_Country_NAN', 'BIN_Country_NG', 'BIN_Country_NI',
       'BIN_Country_NL', 'BIN_Country_NO', 'BIN_Country_NZ',
       'BIN_Country_OM', 'BIN_Country_PA', 'BIN_Country_PE',
       'BIN_Country_PF', 'BIN_Country_PG', 'BIN_Country_PH',
       'BIN_Country_PK', 'BIN_Country_PL', 'BIN_Country_PR',
       'BIN_Country_PS', 'BIN_Country_PT', 'BIN_Country_PY',
       'BIN_Country_QA', 'BIN_Country_RO', 'BIN_Country_RS',
       'BIN_Country_RU', 'BIN_Country_SA', 'BIN_Country_SC',
       'BIN_Country_SE', 'BIN_Country_SG', 'BIN_Country_SI',
       'BIN_Country_SK', 'BIN_Country_SM', 'BIN_Country_SN',
       'BIN_Country_SOUTH KORE', 'BIN_Country_SR', 'BIN_Country_SV',
       'BIN_Country_TH', 'BIN_Country_TJ', 'BIN_Country_TN',
       'BIN_Country_TR', 'BIN_Country_TT', 'BIN_Country_TW',
       'BIN_Country_UA', 'BIN_Country_UG', 'BIN_Country_US',
       'BIN_Country_UY', 'BIN_Country_UZ', 'BIN_Country_VI',
       'BIN_Country_VN', 'BIN_Country_ZA', 'BIN_Country_ZM',
       'Venue_Country_BE', 'Venue_Country_CZ', 'Venue_Country_DE',
       'Venue_Country_DK', 'Venue_Country_EE', 'Venue_Country_ES',
       'Venue_Country_FI', 'Venue_Country_FR', 'Venue_Country_GB',
       'Venue_Country_GR', 'Venue_Country_HR', 'Venue_Country_HU',
       'Venue_Country_IE', 'Venue_Country_IRELAND', 'Venue_Country_IT',
       'Venue_Country_LT', 'Venue_Country_LU', 'Venue_Country_LV',
       'Venue_Country_MC', 'Venue_Country_NL',
       'Venue_Country_NORTHERN IRELAND', 'Venue_Country_PL',
       'Venue_Country_PT', 'Venue_Country_RO', 'Venue_Country_RS',
       'Venue_Country_SCOTLAND', 'Venue_Country_SE', 'Venue_Country_SI',
       'Venue_Country_SK', 'Venue_Country_WALES',
       'Connectione_wIRELESS_True', 'IP_is_Cap_Y', 'Venue_is_Cap_Y']

column_labels_clean = ['Daysleft', 'Score_Accertify_Index',
       'Email_Age_Score', 'Count_Times_Billing_CC_seen_~1',
       'Count_Times_Billing_Email_se~1', 'Listing_Number_Tickets_Purch~1',
       'Number_of_Orders_Purchased_1~1', 'Buyer_Join_to_Transaction_Pu~1',
       'Model_Probability', 'Distance_Buyer_IP_Zip_:_Buye~1', 'IP_seen',
       'Count_Events_per_Email', 'Count_Genres_per_Email',
       'Count_BIN_per_Email', 'Count_BIN_per_IP', 'Count_Users_per_IP',
       'Count_cctype_per_Email', 'Count_Events_per_IP',
       'Fulfillment_Method_BARCODE - PREDELIVERY (NON-STH)',
       'Fulfillment_Method_COURIER', 'Fulfillment_Method_DEUTSCHE POST',
       'Fulfillment_Method_EXTERNAL MOBILE TRANSFER',
       'Fulfillment_Method_LMS', 'Fulfillment_Method_LMS - PREDELIVERY',
       'Fulfillment_Method_LOCAL DELIVERY',
       'Fulfillment_Method_OTHER - PREDELIVERY', 'Fulfillment_Method_PDF',
       'Fulfillment_Method_PDF - PREDELIVERY',
       'Fulfillment_Method_ROYAL MAIL', 'Fulfillment_Method_UPS',
       'ThreatMetrix_Os_EMPTY', 'ThreatMetrix_Os_FEDORA',
       'ThreatMetrix_Os_IOS', 'ThreatMetrix_Os_LINUX',
       'ThreatMetrix_Os_SOLARIS', 'ThreatMetrix_Os_UBUNTU',
       'ThreatMetrix_Os_WINDOWS', 'Guest_Order_Indicator_TRUE',
       'Event_Genre_MLB', 'Event_Genre_MOTORSPORTS', 'Event_Genre_NBA',
       'Event_Genre_NFL', 'Event_Genre_OTHER/SPORT',
       'Buyer_Payment_AVS_Zip_Result_N', 'Buyer_Payment_AVS_Zip_Result_X',
       'Buyer_Payment_AVS_Zip_Result_Y',
       'Buyer_Payment_CC_Type_MASTERCARD', 'Buyer_Payment_CC_Type_VISA',
       'StubHubcom_Buyer_Profile_Sou~1_IOS',
       'StubHubcom_Buyer_Profile_Sou~1_SIEBEL TELESALES',
       'StubHubcom_Buyer_Profile_Sou~1_UNIFIED', 'shipEbill_True',
       'primaryEbill_True', 'BillcountryECC_True',
       'Buyer_IP_Continent_AFRICA', 'Buyer_IP_Continent_ASIA',
       'Buyer_IP_Continent_EUROPE', 'Buyer_IP_Continent_NORTH AMERICA',
       'Buyer_IP_Continent_OCEANIA', 'Buyer_IP_Continent_SOUTH AMERICA',
       'event_lang_True', 'ip_cc_True', 'ip_lang_True', 'ip_event_True',
       'cc_ip_True', 'cc_lang_True', 'cc_event_True',
       'BillcityEevent_True', 'BillStateEevent_True', 'IPcityEBill_True',
       'IPcityEevent_True', 'MusicGenre_ADULT STANDARDS',
       'MusicGenre_AFRO', 'MusicGenre_ALTERNATIVE', 'MusicGenre_ASIAN',
       'MusicGenre_BAROQUE ENSEMBLE', 'MusicGenre_BASS HOUSE',
       'MusicGenre_BEBOP', 'MusicGenre_BELGIAN DANCE',
       'MusicGenre_BELGIAN EDM', 'MusicGenre_BIG ROOM',
       'MusicGenre_BOSTON PUNK', 'MusicGenre_BOY BAND',
       'MusicGenre_BRITISH', 'MusicGenre_BRITISH INDUSTRIAL',
       'MusicGenre_BRITISH SINGER-SONGWRITER', 'MusicGenre_BRITISH SOUL',
       'MusicGenre_CALMING INSTRUMENTAL', 'MusicGenre_CANADIAN CELTIC',
       'MusicGenre_CANTAUTOR', 'MusicGenre_CANZONE DAUTORE',
       'MusicGenre_CANZONE NAPOLETANA', 'MusicGenre_CELTIC',
       'MusicGenre_CHANNEL ISLANDS INDIE', 'MusicGenre_CHANSON',
       'MusicGenre_CHORAL', 'MusicGenre_CHUTNEY', 'MusicGenre_CLASSICAL',
       'MusicGenre_CLASSICAL PERFORMANCE', 'MusicGenre_CLASSICAL PIANO',
       'MusicGenre_CLEAN COMEDY', 'MusicGenre_COMEDY',
       'MusicGenre_CORROSION', 'MusicGenre_COUNTRY',
       'MusicGenre_DARK DISCO', 'MusicGenre_DEEP DISCO HOUSE',
       'MusicGenre_DEEP EURO HOUSE', 'MusicGenre_DISCO',
       'MusicGenre_DOWNTEMPO', 'MusicGenre_ELECTRO',
       'MusicGenre_ELECTRONIC', 'MusicGenre_EPICORE',
       'MusicGenre_EXPERIMENTAL', 'MusicGenre_FESTIVAL',
       'MusicGenre_FILTER HOUSE', 'MusicGenre_FLAMENCO',
       'MusicGenre_FOLK', 'MusicGenre_FOOTBALL LEAGUE', 'MusicGenre_FUNK',
       'MusicGenre_GLOBAL', 'MusicGenre_GRIME', 'MusicGenre_HIP HOP',
       'MusicGenre_HOLLYWOOD', 'MusicGenre_INDIE SOUL',
       'MusicGenre_IRISH SINGER-SONGWRITER', 'MusicGenre_J-POP/ROCK',
       'MusicGenre_JAZZ', 'MusicGenre_JOVEM GUARDA', 'MusicGenre_K-INDIE',
       'MusicGenre_K-POP/ROCK', 'MusicGenre_LATIN', 'MusicGenre_LATINO',
       'MusicGenre_METAL', 'MusicGenre_NEO MELLOW', 'MusicGenre_NEO SOUL',
       'MusicGenre_NEO-SINGER-SONGWRITER', 'MusicGenre_NONE',
       'MusicGenre_ORCHESTRA', 'MusicGenre_OTher/Sports',
       'MusicGenre_POP', 'MusicGenre_POP/R&B', 'MusicGenre_RAP',
       'MusicGenre_REGGAE', 'MusicGenre_REGGAETON', 'MusicGenre_RNB',
       'MusicGenre_ROCK', 'MusicGenre_SASKATCHEWAN INDIE',
       'MusicGenre_SPANISH', 'MusicGenre_VIDEO GAME MUSIC',
       'IPcityEBill2_True', 'IPcityEevent2_True', 'billZipEIPZip_True',
       'Domain Category_NO_GENERIC', 'Domain_CC_True', 'Domain_lang_True',
       'Domain_event_True', 'Domain_ip_True', 'Ticket_Format_HARDTICKET',
       'Instant_Download_NO_INSTANT', 'UNIVERSITY_IP_UNIVERSITY',
       'Shared_Neg_IP_HOT_IP', 'ISP_Category_ITSP',
       'Shared_Neg_CC_HOT_CC', 'TrueIP_SourceIP_True',
       'Genre_seen_before_with_this_~1_0',
       'Genre_seen_before_with_this_~1_1', 'Host_Visit_True',
       'Visit_CC_True', 'Visit_IP_True', 'Visit_lang_True',
       'Host_CC_True', 'Host_IP_True', 'Host_lang_True',
       'Book_of_Business_3', 'Book_of_Business_6', 'Book_of_Business_7',
       'Book_of_Business_8', 'Prepaid_CC_PREPAID', 'primaryEbill2_True',
       'BIN_Country_AD', 'BIN_Country_AE', 'BIN_Country_AG',
       'BIN_Country_AL', 'BIN_Country_AM', 'BIN_Country_AO',
       'BIN_Country_AR', 'BIN_Country_AT', 'BIN_Country_AU',
       'BIN_Country_AW', 'BIN_Country_AZ', 'BIN_Country_BA',
       'BIN_Country_BB', 'BIN_Country_BD', 'BIN_Country_BE',
       'BIN_Country_BF', 'BIN_Country_BG', 'BIN_Country_BH',
       'BIN_Country_BJ', 'BIN_Country_BM', 'BIN_Country_BN',
       'BIN_Country_BO', 'BIN_Country_BR', 'BIN_Country_BS',
       'BIN_Country_BW', 'BIN_Country_BY', 'BIN_Country_CA',
       'BIN_Country_CD', 'BIN_Country_CG', 'BIN_Country_CH',
       'BIN_Country_CI', 'BIN_Country_CL', 'BIN_Country_CN',
       'BIN_Country_CO', 'BIN_Country_CR', 'BIN_Country_CW',
       'BIN_Country_CY', 'BIN_Country_CZ', 'BIN_Country_DE',
       'BIN_Country_DK', 'BIN_Country_DO', 'BIN_Country_DZ',
       'BIN_Country_EC', 'BIN_Country_EE', 'BIN_Country_EG',
       'BIN_Country_ES', 'BIN_Country_FI', 'BIN_Country_FR',
       'BIN_Country_GA', 'BIN_Country_GB', 'BIN_Country_GD',
       'BIN_Country_GE', 'BIN_Country_GH', 'BIN_Country_GI',
       'BIN_Country_GQ', 'BIN_Country_GR', 'BIN_Country_GT',
       'BIN_Country_HK', 'BIN_Country_HN', 'BIN_Country_HR',
       'BIN_Country_HT', 'BIN_Country_HU', 'BIN_Country_ID',
       'BIN_Country_IE', 'BIN_Country_IL', 'BIN_Country_IN',
       'BIN_Country_IQ', 'BIN_Country_IS', 'BIN_Country_IT',
       'BIN_Country_JE', 'BIN_Country_JM', 'BIN_Country_JO',
       'BIN_Country_JP', 'BIN_Country_KE', 'BIN_Country_KG',
       'BIN_Country_KH', 'BIN_Country_KN', 'BIN_Country_KOSOVO',
       'BIN_Country_KR', 'BIN_Country_KW', 'BIN_Country_KY',
       'BIN_Country_KZ', 'BIN_Country_LA', 'BIN_Country_LB',
       'BIN_Country_LK', 'BIN_Country_LT', 'BIN_Country_LU',
       'BIN_Country_LV', 'BIN_Country_LY', 'BIN_Country_MA',
       'BIN_Country_MD', 'BIN_Country_ME', 'BIN_Country_MK',
       'BIN_Country_MM', 'BIN_Country_MN', 'BIN_Country_MO',
       'BIN_Country_MT', 'BIN_Country_MU', 'BIN_Country_MV',
       'BIN_Country_MX', 'BIN_Country_MY', 'BIN_Country_MZ',
       'BIN_Country_NAN', 'BIN_Country_NG', 'BIN_Country_NI',
       'BIN_Country_NL', 'BIN_Country_NO', 'BIN_Country_NZ',
       'BIN_Country_OM', 'BIN_Country_PA', 'BIN_Country_PE',
       'BIN_Country_PF', 'BIN_Country_PG', 'BIN_Country_PH',
       'BIN_Country_PK', 'BIN_Country_PL', 'BIN_Country_PR',
       'BIN_Country_PS', 'BIN_Country_PT', 'BIN_Country_PY',
       'BIN_Country_QA', 'BIN_Country_RO', 'BIN_Country_RS',
       'BIN_Country_RU', 'BIN_Country_SA', 'BIN_Country_SC',
       'BIN_Country_SE', 'BIN_Country_SG', 'BIN_Country_SI',
       'BIN_Country_SK', 'BIN_Country_SM', 'BIN_Country_SN',
       'BIN_Country_SOUTH KORE', 'BIN_Country_SR', 'BIN_Country_SV',
       'BIN_Country_TH', 'BIN_Country_TJ', 'BIN_Country_TN',
       'BIN_Country_TR', 'BIN_Country_TT', 'BIN_Country_TW',
       'BIN_Country_UA', 'BIN_Country_UG', 'BIN_Country_US',
       'BIN_Country_UY', 'BIN_Country_UZ', 'BIN_Country_VI',
       'BIN_Country_VN', 'BIN_Country_ZA', 'BIN_Country_ZM',
       'Venue_Country_BE', 'Venue_Country_CZ', 'Venue_Country_DE',
       'Venue_Country_DK', 'Venue_Country_EE', 'Venue_Country_ES',
       'Venue_Country_FI', 'Venue_Country_FR', 'Venue_Country_GB',
       'Venue_Country_GR', 'Venue_Country_HR', 'Venue_Country_HU',
       'Venue_Country_IE', 'Venue_Country_IRELAND', 'Venue_Country_IT',
       'Venue_Country_LT', 'Venue_Country_LU', 'Venue_Country_LV',
       'Venue_Country_MC', 'Venue_Country_NL',
       'Venue_Country_NORTHERN IRELAND', 'Venue_Country_PL',
       'Venue_Country_PT', 'Venue_Country_RO', 'Venue_Country_RS',
       'Venue_Country_SCOTLAND', 'Venue_Country_SE', 'Venue_Country_SI',
       'Venue_Country_SK', 'Venue_Country_WALES',
       'Connectione_wIRELESS_True', 'IP_is_Cap_Y', 'Venue_is_Cap_Y']

def resolution(res):
    if (res == "Buyer Fraud  Loss") or (res == "Chargeback Received - Fraud") or (res == "ATO-Buyer Loss") or (res == "ATO-Buyer Prevented") or (res == "Chargeback - Hostile Fraud Missed"):
        return "Fraud"
    elif (res == "Buyer Fraud Prevented") :
        return "Suspicious"
    else:
        return "No Fraud"
    
def month(date):
    if str(date) >= "2019-07-00 00:00:00" and str(date) < "2019-07-31 23:59:59":
        return "July19"
    elif str(date) >= "2019-02-00 00:00:00" and str(date) < "2019-02-31 23:59:59":
        return "February19"
    elif str(date) >= "2019-01-00 00:00:00" and str(date) < "2019-01-31 23:59:59":
        return "January19"
    elif str(date) >= "2019-03-00 00:00:00" and str(date) < "2019-03-31 23:59:59":
        return "March19"
    elif str(date) >= "2019-04-00 00:00:00" and str(date) < "2019-04-31 23:59:59":
        return "April19"
    elif str(date) >= "2019-05-00 00:00:00" and str(date) < "2019-05-31 23:59:59":
        return "May19"
    elif str(date) >= "2019-06-00 00:00:00" and str(date) < "2019-06-31 23:59:59":
        return "June19"
    elif str(date) >= "2019-08-00 00:00:00" and str(date) < "2019-08-31 23:59:59":
        return "August19"
    elif str(date) >= "2019-09-00 00:00:00" and str(date) < "2019-09-31 23:59:59":
        return "September19"
    elif str(date) >= "2019-10-00 00:00:00" and str(date) < "2019-10-31 23:59:59":
        return "October19"
    elif str(date) >= "2019-11-00 00:00:00" and str(date) < "2019-11-31 23:59:59":
        return "November19"
    elif str(date) >= "2019-12-00 00:00:00" and str(date) < "2019-12-31 23:59:59":
        return "December19"
    elif str(date) >= "2020-01-00 00:00:00" and str(date) < "2020-01-31 23:59:59":
        return "January20"
    elif str(date) >= "2020-02-00 00:00:00" and str(date) < "2020-02-31 23:59:59":
        return "February20"
    elif str(date) >= "2020-03-00 00:00:00" and str(date) < "2020-03-31 23:59:59":
        return "March20"
    elif str(date) >= "2020-04-00 00:00:00" and str(date) < "2020-04-31 23:59:59":
        return "April20"
    elif str(date) >= "2020-05-00 00:00:00" and str(date) < "2020-05-31 23:59:59":
        return "May20"
    elif str(date) >= "2020-06-00 00:00:00" and str(date) < "2020-06-31 23:59:59":
        return "June20"
    elif str(date) >= "2020-07-00 00:00:00" and str(date) < "2020-07-31 23:59:59":
        return "July20"
    elif str(date) >= "2020-08-00 00:00:00" and str(date) < "2020-08-31 23:59:59":
        return "August20"
import datetime 
def splitter(x):
    if len(x.split("-")) == 2:
        return x.split("-")[1].upper()
    else:
        return x.split("-")[0].upper()

def splitdomain(x):
    return x.split(".")[0]

def splitdomain2(x):
    if len(x.split(".")) >= 3:
        return x.split(".")[2]
    elif len(x.split(".")) == 2:
        return x.split(".")[1]
    else:
        return x.split(".")[0]

def etix_paper(x):
    if x in ['PDF','PDF - PREDELIVERY','EXTERNAL MOBILE TRANSFER','BARCODE','BARCODE - PREDELIVERY (NON-STH)','BARCODE - PREDELIVERY (STH)']:
        return "ETICKET"
    else:
        return "HARDTICKET"

def instant(x):
    if x in ['PDF - PREDELIVERY','BARCODE - PREDELIVERY (NON-STH)','BARCODE - PREDELIVERY (STH)','OTHER - PREDELIVERY','LMS - PREDELIVERY']:
        return "INSTANT"
    else:
        return "NO_INSTANT"
    
def ResolutionY(x):
    if (x == "Chargeback Received - Fraud".upper()) | (x == "Buyer Fraud  Loss".upper()) |  (x == "Chargeback - Hostile Fraud Missed".upper()):
        return "Fraud"
    elif (x == "Buyer Fraud Prevented".upper())  | (x == "ATO-Buyer Prevented".upper()) :
        return "Suspicious"
    
    else:
        return "NoFraud"
def datetimer(x):
    if len(x["Import_Time"]) > 17:
        day = datetime.datetime.strptime(x["Event_Date_Time_Until"],'%Y-%m-%d')  - datetime.datetime.strptime(x["Import_Time"],'%Y-%m-%d') 
        return day.days
    else:
        day = datetime.datetime.strptime(x["Event_Date_Time_Until"],'%Y-%m-%d')  - datetime.datetime.strptime(x["Import_Time"],'%Y-%m-%d') 
        return day.days

def fraud_nofraud_encode(x):
    if (x == "Fraud") :
        return 0
    else:
        return 1

def time_converter(x):
    return datetime.datetime.strptime(str(x), '%m/%d/%Y %H:%S').day
    
def data_processor(df):
    

    train3 = df


    #train3["converted_transaction_amount"].fillna(train3["converted_transaction_amount"].mean(),inplace=True)
    train3["Buyer_Payment_CC_Type"].replace(" ", np.nan, regex=True,inplace=True)
    train3["Buyer_Payment_CC_Type"].fillna("Paypal",inplace=True)
    train3 = train3[train3["Buyer_Payment_CC_Type"] != "Paypal"]
    #train["BIN_Country"].fillna("Paypal")
    #train= train[((train["Buyer_Payment_CC_Type"] == "MasterCard") | (train["Buyer_Payment_CC_Type"] == "Visa") | (train["Buyer_Payment_CC_Type"] == "AmericanExpress")) & (train["Recommendation_Code"] =="Review")]
    #train3["resolution1_name"].fillna("Accepted",inplace=True)
    train3 = train3[(train3["resolution1_name"]== "ATO-Buyer Prevented") |(train3["resolution1_name"]== "Cancelled - non fraud") | (train3["resolution1_name"]== "Chargeback Received - Fraud") | (train3["resolution1_name"]== "Buyer Fraud  Loss")  | (train3["resolution1_name"]== "Fraud Reviewed  Allowed") | (train3["resolution1_name"]== "Buyer Fraud Prevented") | (train3["resolution1_name"]== "")  | (train3["resolution1_name"]== "Chargeback - Hostile Fraud Missed")]
    #
#train= train[(train["Recommendation_Code"] =="Review")]
#train3= train3[(train3["Score_Total_Score"] >3800)]
#train = train[train["Buyer_IP_Continent"] == "north america"]
#train = train[train["lang"] == "US"]
#train = train[(train["Month"]==1) | (train["Month"]==2)]
#train = train[train["Month"]==3]
#train = train[train["Score_Total_Score"]< 10000]
#train =train[train["Event_Genre"] == "Concerts"]
#train = train[train["Rules_Tripped_in_RTD"].str.contains("5237260000001486029")]
    train3["Buyer_IP_Country"].replace(" ", np.nan, regex=True,inplace=True)
    train3["Buyer_IP_Country"]= train3["Buyer_IP_Country"].fillna("Empty")
    train3["ThreatMetrix_Browser_Languag~1"]= train3["ThreatMetrix_Browser_Languag~1"].fillna("Empty")

    train3["ThreatMetrix_Os"].replace(" ", np.nan, regex=True,inplace=True)
    train3["ThreatMetrix_Os"]= train3["ThreatMetrix_Os"].fillna("Empty")

    train3["Event_Genre"].replace(" ", np.nan, regex=True,inplace=True)
    train3["Event_Genre"]= train3["Event_Genre"].fillna("Other/Sport")
    train3["Venue_Country"]= train3["Venue_Country"].replace("ENGLAND","GB")



    train3["Resolution"] = train3["resolution1_name"].apply(resolution)

    train3= train3.apply(lambda x: x.astype(str).str.upper())
    
    train3["Month"] = train3["Import_Time"].apply(month)


    

    train3["Shared_Neg_IP"] = np.nan
    for i in train3[train3["Rules_Tripped_in_RTD"].str.contains("5237260000000356298")].index:
        train3["Shared_Neg_IP"][i] = "HOT_IP"
    train3["Shared_Neg_IP"].fillna("CLEAN_IP",inplace=True)
    train3["Shared_Neg_IP"].value_counts()


    train3["Shared_Neg_CC"] = np.nan
    for i in train3[train3["Rules_Tripped_in_RTD"].str.contains("5237260000000356289")].index:
        train3["Shared_Neg_CC"][i] = "HOT_CC"
    train3["Shared_Neg_CC"].fillna("CLEAN_CC",inplace=True)
    train3["Shared_Neg_CC"].value_counts()

    train3["Prepaid_CC"] = np.nan
    for i in train3[train3["Rules_Tripped_in_RTD"].str.contains("5237260000001436975")].index:
        train3["Prepaid_CC"][i] = "PREPAID"
    train3["Prepaid_CC"].fillna("CREDIT/DEBIT",inplace=True)
    train3["Prepaid_CC"].value_counts()



    train3["UNIVERSITY_IP"] = np.nan
    for i in train3[train3["Buyer_IP_Carrier_Code"].str.contains("UNIVERSI")].index:
        train3["UNIVERSITY_IP"][i] = "UNIVERSITY"
    for i in train3[train3["Buyer_IP_Carrier_Code"].str.contains("JISC SERVICES LIMITED")].index:
        train3["UNIVERSITY_IP"][i] = "UNIVERSITY"
    train3["UNIVERSITY_IP"].fillna("NON_UNIVERSITY",inplace=True)


    train3["Ticket_Format"]=train3["Fulfillment_Method"].apply(etix_paper)
    train3["Instant_Download"]=train3["Fulfillment_Method"].apply(instant)

    
    train3["Event_name"] = train3["Listing_Genre_Description"].apply(lambda x: x.split(" TICKETS",1)[0].upper())

    train3["Clean Domain"] = train3["Buyer_Billing_Email_Domain"].apply(splitdomain)
    train3["Domain Country"] = train3["Buyer_Billing_Email_Domain"].apply(splitdomain2)
    train3["Domain Category"] = train3["Clean Domain"].map(Domains.to_dict()['GENERIC']).fillna("NO_GENERIC")

    train3["lang"] = train3["ThreatMetrix_Browser_Languag~1"].apply(splitter)
    train3["ISO_IP"] = train3["Buyer_IP_Country"].map(ISO_IP.to_dict()["IP_ISO"])

    train3["cc_event"] = train3["BIN_Country"] == train3["Venue_Country"]
    train3["cc_lang"] =train3["lang"]== train3["BIN_Country"]
    train3["cc_ip"] =train3["BIN_Country"] ==train3["ISO_IP"]
    train3["ip_event"] =train3["ISO_IP"] == train3["Venue_Country"]
    train3["ip_lang"] = train3["ISO_IP"] == train3["lang"]
    train3["ip_cc"] = train3["ISO_IP"] == train3["BIN_Country"]
    train3["event_lang"]=train3["Venue_Country"] == train3["lang"]
    #train["cardholder_buyer"] = train["payment_cc_holder_name"] == train["buyer_contact_fullname"]
    train3["shipEbill"] = train3["Buyer_Billing_Zip"] ==train3["Buyer_Shipping_Zip"]
    train3["primaryEbill"] = train3["Buyer_Primary_Last_Name"] ==train3["Buyer_Billing_Last_Name"]
    train3["primaryEbill2"] = train3["Buyer_Primary_First_Name"] ==train3["Buyer_Billing_First_Name"]
    train3["BillcountryECC"]  =train3["BIN_Country"] ==train3["Buyer_Billing_Country"]

    train3["BillcityEevent"]  =train3["Buyer_Billing_City"] ==train3["Venue_City"]
    train3["BillStateEevent"]  = train3["Buyer_Billing_State"] ==train3["Venue_State"]

#train["IPstateEevent"]  = train["Buyer_IP_State"] ==train["Venue_State"]
#train["IPstateEBill"]  = train["Buyer_IP_State"] ==train["Buyer_Billing_State"]

    train3["IPcityEBill"]  = train3["ThreatMetrix_True_IP_City"]==train3["Buyer_Billing_City"]
    train3["IPcityEevent"]  = train3["ThreatMetrix_True_IP_City"] ==train3["Venue_City"]

    train3["IPcityEBill2"]  = train3["ThreatMetrix_Input_IP_City"]==train3["Buyer_Billing_City"]
    train3["IPcityEevent2"]  = train3["ThreatMetrix_Input_IP_City"] ==train3["Venue_City"]

    train3["billZipEIPZip"] = train3["Buyer_Billing_Zip"] ==train3["Buyer_IP_Zip"]
#train["billZipEIPcity"] = train["Buyer_Billing_City"] ==train["Buyer_IP_Zip_City"]
    train3["TrueIP_SourceIP"] = train3["ThreatMetrix_True_IP"] ==train3["Buyer_Source_IP"]




    train3["IP_is_Cap"] = train3["ThreatMetrix_True_IP_City"].map(Capitals.to_dict()["is capital"])
    train3["IP_is_Cap"].fillna("N",inplace=True)

    train3["Venue_is_Cap"] = train3["Venue_City"].map(Capitals.to_dict()["is capital"])
    train3["Venue_is_Cap"].fillna("N",inplace=True)

#train["MusicGenre"] = train["Event_name"].map(Artists_Genres.to_dict()[1]).fillna("Other/Sports")
    train3["MusicGenre"] = train3["Event_name"].map(Genres.to_dict()["Genre"]).fillna(train3["Event_name"].map(Artists_Genres.to_dict()["1"]).fillna(train3["Event_name"].map(Artists_Genres2.to_dict()["genre1"]).fillna("OTher/Sports")))



    train3["Domain_CC"] = train3["Domain Country"] == train3["BIN_Country"]
    train3["Domain_lang"] = train3["Domain Country"] == train3["lang"]
    train3["Domain_event"] = train3["Domain Country"] == train3["Venue_Country"]
    train3["Domain_ip"] = train3["Domain Country"] == train3["ISO_IP"]



    
    train3["Event_Date_Time_Until"].dropna(inplace=True)
    train3["Import_Time"].dropna(inplace=True)
    train3["Import_time"] = train3["Import_Time"].apply(time_converter)
    train3["Event_Date_Time_Until"] = train3["Event_Date_Time_Until"].apply(time_converter)
    #train3["Daysleft"] = train3[["Import_Time","Event_Date_Time_Until"]].apply(datetimer,axis=1)
    train3["Daysleft"] = (train3["Event_Date_Time_Until"] - train3["Import_time"])
    train3["ResolutionY"] = train3["resolution1_name"] .apply(ResolutionY)

    train3["ISP_Category"] = train3["Buyer_IP_Carrier_Code"].map(ISP.to_dict()["cat"]).fillna(train3["Buyer_IP_Carrier_Code"].map(ITSP.to_dict()["cat"]))

    train3["Event_name2"] = train3["Event_Description"].apply(lambda x: x.split(" VS ",1)[0].upper())
    
    train3["Football_Host"] = train3[train3["Event_Genre"] == "OTHER/SPORT"]["Event_name"].map(Football.to_dict()["Country"])
    train3["Football_Visitor"] = train3[train3["Event_Genre"] == "OTHER/SPORT"]["Event_name2"].map(Football.to_dict()["Country"])

    train3["Host_Visit"] = train3["Football_Visitor"]  ==  train3["Football_Host"] 

    train3["Visit_CC"]  = train3["Football_Visitor"]  == train3["BIN_Country"]
    train3["Visit_IP"]  = train3["Football_Visitor"] ==train3["ISO_IP"]
    train3["Visit_lang"]  = train3["Football_Visitor"] ==train3["lang"]

    train3["Host_CC"]  = train3["Football_Host"]  == train3["BIN_Country"]
    train3["Host_IP"]  = train3["Football_Host"] ==train3["ISO_IP"]
    train3["Host_lang"]  = train3["Football_Host"] ==train3["lang"]

    train3["IP_seen"] = train3["ThreatMetrix_True_IP"].map(train3["ThreatMetrix_True_IP"].value_counts().to_dict())

    d = train3.pivot_table(index=["ThreatMetrix_True_IP","Buyer_Billing_Email"],aggfunc="count")
    email_events0 = {}
    for email in train3["ThreatMetrix_True_IP"].unique():
        email_events0.update({email:len(d.loc[email].index)})
    train3["Count_Users_per_IP"] = train3["ThreatMetrix_True_IP"].map(email_events0)     


#different events per user
    d = train3.pivot_table(index=["Buyer_Billing_Email","Event_name"],aggfunc="count")
    email_events1 = {}
    for email in train3["Buyer_Billing_Email"].unique():
        email_events1.update({email:len(d.loc[email].index)})
    train3["Count_Events_per_Email"] = train3["Buyer_Billing_Email"].map(email_events1)   

#different events genre per user
    d = train3.pivot_table(index=["Buyer_Billing_Email","Event_Genre"],aggfunc="count")
    email_events2 = {}
    for email in train3["Buyer_Billing_Email"].unique():
        email_events2.update({email:len(d.loc[email].index)})
    train3["Count_Genres_per_Email"] = train3["Buyer_Billing_Email"].map(email_events2)     

#differets CCs country per User
    d = train3.pivot_table(index=["Buyer_Billing_Email","BIN_Country"],aggfunc="count")
    email_events3 = {}
    for email in train3["Buyer_Billing_Email"].unique():
        email_events3.update({email:len(d.loc[email].index)})
    train3["Count_BIN_per_Email"] = train3["Buyer_Billing_Email"].map(email_events3)  


#differets CC type  per User
    d = train3.pivot_table(index=["Buyer_Billing_Email","Buyer_Payment_CC_Type"],aggfunc="count")
    email_events4 = {}
    for email in train3["Buyer_Billing_Email"].unique():
        email_events4.update({email:len(d.loc[email].index)})
    train3["Count_cctype_per_Email"] = train3["Buyer_Billing_Email"].map(email_events4)  


#differets CCs country per IP
    d = train3.pivot_table(index=["ThreatMetrix_True_IP","BIN_Country"],aggfunc="count")
    email_events5 = {}
    for email in train3["ThreatMetrix_True_IP"].unique():
        email_events5.update({email:len(d.loc[email].index)})
    train3["Count_BIN_per_IP"] = train3["ThreatMetrix_True_IP"].map(email_events5) 

#differets Events per IP
    d = train3.pivot_table(index=["ThreatMetrix_True_IP","Event_name"],aggfunc="count")
    email_events6 = {}
    for email in train3["ThreatMetrix_True_IP"].unique():
        email_events6.update({email:len(d.loc[email].index)})
    train3["Count_Events_per_IP"] = train3["ThreatMetrix_True_IP"].map(email_events6) 

    train3["Connectione_wIRELESS"] = train3["Buyer_IP_Connection_Type"].apply(lambda x: x == "MOBILE WIRELESS")
    
    
    
    cat_feats =["Fulfillment_Method","ThreatMetrix_Os","Guest_Order_Indicator","Event_Genre","Buyer_Payment_AVS_Zip_Result","Buyer_Payment_CC_Type","StubHubcom_Buyer_Profile_Sou~1","shipEbill", "primaryEbill" , "BillcountryECC","Buyer_IP_Continent","event_lang","ip_cc","ip_lang","ip_event","cc_ip","cc_lang","cc_event","BillcityEevent","BillStateEevent","IPcityEBill","IPcityEevent","MusicGenre","IPcityEBill2","IPcityEevent2","billZipEIPZip","Domain Category","Domain_CC","Domain_lang","Domain_event","Domain_ip","Ticket_Format","Instant_Download","UNIVERSITY_IP","Shared_Neg_IP","ISP_Category","Shared_Neg_CC","TrueIP_SourceIP","Genre_seen_before_with_this_~1","Host_Visit","Visit_CC","Visit_IP","Visit_lang","Host_CC","Host_IP","Host_lang","Book_of_Business","Prepaid_CC","primaryEbill2","BIN_Country", "Venue_Country","Connectione_wIRELESS","IP_is_Cap","Venue_is_Cap"]
    new_df = pd.get_dummies(train3,columns=cat_feats,drop_first=False)
    dummies = new_df.iloc[:,129:]
    
    non_dummies = new_df[["ResolutionY","Month","Daysleft","Score_Accertify_Index","Email_Age_Score",'Count_Times_Billing_CC_seen_~1',
 'Count_Times_Billing_Email_se~1',"Listing_Number_Tickets_Purch~1","Number_of_Orders_Purchased_1~1","Buyer_Join_to_Transaction_Pu~1","Model_Probability","Distance_Buyer_IP_Zip_:_Buye~1","IP_seen","Count_Events_per_Email","Count_Genres_per_Email","Count_BIN_per_Email","Count_BIN_per_IP","Count_Users_per_IP","Count_cctype_per_Email","Count_Events_per_IP"]]
    beta = pd.concat([non_dummies,dummies],axis=1)
    
    for col in beta.columns.value_counts().index:
        if beta.columns.value_counts()[col] >= 2:
            beta.drop(col,axis=1,inplace=True)
    for column in column_labels:
        if column not in beta.columns:
            beta[column] = 0
    #zeta = pd.DataFrame(beta,columns=train2.columns).fillna(0)
    beta['ResolutionY'] = beta['ResolutionY'].apply(fraud_nofraud_encode)
    
    beta= beta[column_labels_clean]
    processed_data = ','.join([str(val) for val in beta.iloc[0].values])
    return processed_data

def df_converter(string):
    df= pd.DataFrame(pd.DataFrame(string.split(",")).T)
    df.columns = column_labels_clean
    return df



ISO_IP = pd.read_csv('s3://sagemaker-eu-west-2-915492785002/RandomForest_ProcessedData/ISO_IP.csv',index_col=0)
Genres = pd.read_csv('s3://sagemaker-eu-west-2-915492785002/RandomForest_ProcessedData/Genres.csv',index_col=0)
Domains = pd.read_csv('s3://sagemaker-eu-west-2-915492785002/RandomForest_ProcessedData/Domains.csv',index_col=0)
artists = pd.read_csv('s3://sagemaker-eu-west-2-915492785002/RandomForest_ProcessedData/artists.csv',index_col=0)
genres = pd.read_csv('s3://sagemaker-eu-west-2-915492785002/RandomForest_ProcessedData/genres.csv',index_col=0)
Artists_Genres = pd.read_csv('s3://sagemaker-eu-west-2-915492785002/RandomForest_ProcessedData/Artists_Genres.csv',index_col=0)
Artists_Genres2 = pd.read_csv('s3://sagemaker-eu-west-2-915492785002/RandomForest_ProcessedData/Artists_Genres2.csv',index_col=0)
Capitals = pd.read_csv('s3://sagemaker-eu-west-2-915492785002/RandomForest_ProcessedData/Capitals.csv',index_col=0)
ISP = pd.read_csv('s3://sagemaker-eu-west-2-915492785002/RandomForest_ProcessedData/ISP.csv',index_col=0)
ITSP = pd.read_csv('s3://sagemaker-eu-west-2-915492785002/RandomForest_ProcessedData/ITSP.csv',index_col=0)
Football = pd.read_csv('s3://sagemaker-eu-west-2-915492785002/RandomForest_ProcessedData/Football.csv',index_col=0)

columns = "Book_of_Business,BIN_Country,Buyer_Billing_City,Buyer_Payment_AVS_Zip_Result,Buyer_Payment_CC_Type,ThreatMetrix_True_IP_City,Listing_Event_Description_Ri~1,Fulfillment_Method,Import_Time,resolution1_name,Recommendation_Code,Score_Total_Score,Order_ID,Total_Cost,Venue_Name_Risk_Level,Email_Age_Score,Buyer_Billing_Email_Domain,Event_Description,Event_Date_Time_Until,Guest_Order_Indicator,Original_Resolution_User_Nam~1,Score_Accertify_Index,Venue_Country,converted_transaction_amount,ThreatMetrix_True_IP,Buyer_Payment_BIN_Number,Buyer_IP_Country,Buyer_Billing_Country,Buyer_Billing_State,Buyer_Shipping_State,Buyer_IP_Connection_Type,Buyer_IP_Domain_Level_2,Buyer_IP_Carrier_Code,ThreatMetrix_Browser_Languag~1,BIN_Country_seen_before_with~1,Buyer_IP_State,Buyer_Shipping_City,Purchase_Date_Added,Buyer_Billing_Email,Listing_Number_Tickets_Purch~1,Resolution_Time_Stamp,ThreatMetrix_Os,StubHubcom_Buyer_Profile_Sou~1,Buyer_Billing_Email_Handle,Buyer_Billing_Email_Handle_T~1,Paypal_Payment_Email_Address~1,Paypal_Payment_Email_Address~2,Buyer_Billing_Full_Name,Payment_Auth_Credit_Card_is_~1,Buyer_Billing_First_Name,Buyer_Billing_Last_Name,Buyer_Primary_First_Name,Buyer_Primary_Last_Name,Rules_Tripped_in_RTD,Buyer_Payment_CC_Expiration_~1,Number_of_Orders_Purchased_1~1,ThreatMetrix_Screen_Res,Buyer_IP_AOL,Distance_Buyer_Billing_Zip_:~1,Distance_Buyer_Billing_Zip_:~2,Distance_Buyer_IP_Zip_:_Buye~1,True_IP_seen_before_with_thi~1,ThreatMetrix_True_IP_Latitud~1,ThreatMetrix_True_IP_Longitu~1,Genre_seen_before_with_this_~1,Device_ID_first_seen_date_wi~1,IP_State_first_seen_date_wit~1,Discover_Account_Number_Matc~1,Discover_Standardized_Street~1,Number_of_Unique_Failed_Ping~1,ThreatMetrix_Cidr_Number,Number_of_Unique_Pings_Buyer,Number_of_Failed_Pings_Buyer,Discover_Standardized_Billin~1,ThreatMetrix_Proxy_IP,Paypal_Payment_Payer_Status,Count_Times_Billing_CC_seen_~1,Count_Times_Billing_Email_se~1,CC_first_seen_date_with_this~1,Email_Address_first_seen_dat~1,Secondary_Score,Secondary_Score_Text,Model_Probability,Score_FARE,Score_Model,Number_of_Orders_Purchased_3~1,Number_of_Orders_Purchased_6~1,Venue_City_Risk_Level,Genre_Description_and_Venue_~1,Face_Value,Cart_ID,Event_Genre,Listing_Genre_Description,Event_Genre_Description_&_Ve~1,Venue_State,Venue_City,Venue_Name,Avg_Dist_Venue_Zip_to_Bill_Z~1,Buyer_Source_IP,Buyer_Shipping_Full_Name,Shipping_First_Name,Shipping_Last_Name,Buyer_Date_Account_Change_eM~1,Buyer_IP_Country_Code,Buyer_Join_Date,Buyer_Join_to_Transaction_Pu~1,Buyer_Billing_Zip,Buyer_Shipping_Zip,Distance_Venue_Zip_:_Buyer_S~1,StubHubcom_Buyer_Profile_Use~1,Transactions_with_Same_Credi~1,Paypal_Transactions_in_1_hou~1,Buyer_IP_Continent,Buyer_IP_Timezone,ThreatMetrix_Time_Zone,ThreatMetrix_Local_Time,ThreatMetrix_Input_IP_Addres~1,ThreatMetrix_Input_IP_City,Buyer_IP_Zip,Buyer_IP_Zip_City,Event_Genre_Path"
columns_preprocessed =columns.split(",")


def lambda_handler(event, context):
    #result=  pd.DataFrame(event["body"].split("\t")).T
    data = pd.DataFrame([event["body"].split("\t")],columns=columns_preprocessed)
    data.index=data["Order_ID"]
    data = data.drop("Order_ID",axis=1)
    
    order = pd.DataFrame(data.iloc[0]).T

    data_string = data_processor(order) 
    data_index = data.index[0]
    runtime = boto3.Session().client('sagemaker-runtime')

    # Now we use the SageMaker runtime to invoke our endpoint, sending the review we were given
    response = runtime.invoke_endpoint(EndpointName = "xgboost-2020-09-13-09-54-35-424", #xgb_predictor.endpoint,# The name of the endpoint we created
                                       ContentType = 'text/csv',                 # The data format that is expected
                                       Body = data_string.encode('utf-8')) # The actual review

    # The response is an HTTP response whose body contains the result of our inference
    result = response['Body'].read().decode('utf-8')
    
    # Round the result so that our web app only gets '1' or '0' as a response.
    result = round(float(result),2)
    ccc= "{},{}".format(result,data_index)
    return {
        'statusCode' : 200,
        'headers' : { 'Content-Type' : 'text/plain', 'Access-Control-Allow-Origin' : '*' },
        'body' :  "{}{}".format(result,data_index)
    }